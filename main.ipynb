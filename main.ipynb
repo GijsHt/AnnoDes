{
 "cells": [
  {
   "cell_type": "code",
   "execution_count": 8,
   "outputs": [
    {
     "name": "stdout",
     "output_type": "stream",
     "text": [
      "   rev_id  toxicity_score\n",
      "0  2232.0             0.0\n",
      "1  2232.0             0.0\n",
      "2  2232.0             1.0\n",
      "3  2232.0             0.0\n",
      "4  2232.0             1.0\n"
     ]
    }
   ],
   "source": [
    "import numpy as np\n",
    "import pandas as pd\n",
    "import matplotlib.pyplot as plt\n",
    "import matplotlib.animation as animation\n",
    "from sklearn.model_selection import train_test_split\n",
    "import zipfile\n",
    "import os\n",
    "\n",
    "wiki = pd.read_csv('data/wiki/toxicity_annotated_comments.tsv', sep = '\\t')\n",
    "wiki_labels = pd.read_csv('data/wiki/toxicity_annotations.tsv', sep = '\\t')\n",
    "\n",
    "wiki_labels = wiki_labels.drop(['worker_id', 'toxicity'], axis = 1)\n",
    "wiki = wiki.drop(['year', 'logged_in', 'ns', 'sample', 'split'], axis = 1)\n",
    "wiki = wiki.dropna()\n",
    "wiki_labels = wiki_labels.dropna()\n",
    "wiki = wiki.merge(wiki_labels, on = 'rev_id')\n",
    "\n",
    "print(wiki.head(5))\n",
    "wiki = wiki.drop(['rev_id'], axis = 1)\n",
    "\n",
    "train, test = train_test_split(wiki, test_size = 0.2, random_state = 42)\n",
    "train, val = train_test_split(train, test_size = 0.25, random_state = 42)\n",
    "\n",
    "print(train.head(5))\n",
    "print(val.head(5))\n",
    "print(test.head(5))\n",
    "\n",
    "print(train.shape, val.shape, test.shape)\n",
    "\n",
    "train.to_csv('data/wiki/train.csv', index = False)\n",
    "val.to_csv('data/wiki/val.csv', index = False)\n",
    "test.to_csv('data/wiki/test.csv', index = False)\n",
    "\n",
    "with zipfile.ZipFile('data/wiki/wiki.zip', 'w') as z:\n",
    "    z.write('data/wiki/train.csv')\n",
    "    z.write('data/wiki/val.csv')\n",
    "    z.write('data/wiki/test.csv')\n",
    "\n",
    "os.remove('data/wiki/train.csv')\n",
    "os.remove('data/wiki/val.csv')\n",
    "os.remove('data/wiki/test.csv')\n",
    "\n"
   ],
   "metadata": {
    "collapsed": false
   }
  },
  {
   "cell_type": "code",
   "execution_count": null,
   "outputs": [],
   "source": [],
   "metadata": {
    "collapsed": false
   }
  }
 ],
 "metadata": {
  "language_info": {
   "name": "python"
  }
 },
 "nbformat": 4,
 "nbformat_minor": 2
}
