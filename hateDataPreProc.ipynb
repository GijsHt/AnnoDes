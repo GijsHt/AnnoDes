{
 "cells": [
  {
   "cell_type": "code",
   "execution_count": 2,
   "outputs": [],
   "source": [
    "import numpy as np\n",
    "import pandas as pd\n",
    "import matplotlib.pyplot as plt\n",
    "import matplotlib.animation as animation\n",
    "from sklearn.model_selection import train_test_split\n",
    "import zipfile\n",
    "import os"
   ],
   "metadata": {
    "collapsed": false
   }
  },
  {
   "cell_type": "code",
   "execution_count": 3,
   "outputs": [
    {
     "name": "stdout",
     "output_type": "stream",
     "text": [
      "   label                                               text  label_0  label_1  \\\n",
      "0      0   and disrespectful and stuff my wife and discreet        0        0   \n",
      "1      0  \"The Jewish people is trying to destroy everyt...        1        1   \n",
      "2      0  They wanted beautiful football lmao. Y’all nee...        1        1   \n",
      "3      0  Could you imagine playing Civ 6 as How the USA...        1        0   \n",
      "4      1  Sad to see our favourite stars are all hypocri...        1        1   \n",
      "\n",
      "   label_2  \n",
      "0        0  \n",
      "1        0  \n",
      "2        0  \n",
      "3        0  \n",
      "4        0  \n",
      "   label                                               text  label_1  label_2\n",
      "0      0   and disrespectful and stuff my wife and discreet        0        0\n",
      "1      0  \"The Jewish people is trying to destroy everyt...        1        0\n",
      "2      0  They wanted beautiful football lmao. Y’all nee...        1        0\n",
      "3      0  Could you imagine playing Civ 6 as How the USA...        0        0\n",
      "4      1  Sad to see our favourite stars are all hypocri...        1        0\n",
      "   label                                               text  label_2\n",
      "0      0   and disrespectful and stuff my wife and discreet        0\n",
      "1      0  \"The Jewish people is trying to destroy everyt...        0\n",
      "2      0  They wanted beautiful football lmao. Y’all nee...        0\n",
      "3      0  Could you imagine playing Civ 6 as How the USA...        0\n",
      "4      1  Sad to see our favourite stars are all hypocri...        0\n"
     ]
    }
   ],
   "source": [
    "hateData3AnnoTest = pd.read_csv('../../Twitterdatasets/test.csv')\n",
    "hateData3AnnoTrain = pd.read_csv('../../Twitterdatasets/train.csv')\n",
    "hateData3AnnoVal = pd.read_csv('../../Twitterdatasets/val.csv')\n",
    "\n",
    "hateData2AnnoTest = hateData3AnnoTest.copy(deep = True)\n",
    "hateData2AnnoTrain = hateData3AnnoTrain.copy(deep = True)\n",
    "hateData2AnnoVal = hateData3AnnoVal.copy(deep = True)\n",
    "\n",
    "hateData1AnnoTest = hateData3AnnoTest.copy(deep = True)\n",
    "hateData1AnnoTrain = hateData3AnnoTrain.copy(deep = True)\n",
    "hateData1AnnoVal = hateData3AnnoVal.copy(deep = True)\n",
    "\n",
    "hateData2AnnoTest = hateData2AnnoTest.drop('label_0', axis = 1)\n",
    "hateData2AnnoTrain = hateData2AnnoTrain.drop('label_0', axis = 1)\n",
    "hateData2AnnoVal = hateData2AnnoVal.drop('label_0', axis = 1)\n",
    "\n",
    "hateData1AnnoTest = hateData1AnnoTest.drop('label_0', axis = 1)\n",
    "hateData1AnnoTrain = hateData1AnnoTrain.drop('label_0', axis = 1)\n",
    "hateData1AnnoVal = hateData1AnnoVal.drop('label_0', axis = 1)\n",
    "hateData1AnnoTest = hateData1AnnoTest.drop('label_1', axis = 1)\n",
    "hateData1AnnoTrain = hateData1AnnoTrain.drop('label_1', axis = 1)\n",
    "hateData1AnnoVal = hateData1AnnoVal.drop('label_1', axis = 1)\n",
    "\n",
    "# if the value in the label column is 0 and the corresponding value in label_2 is 1, then the value in label is changed to 1 and vice versa\n",
    "# hateData1AnnoTest.loc[(hateData1AnnoTest['label'] == 0) & (hateData1AnnoTest['label_2'] == 1), 'label'] = 1\n",
    "# hateData1AnnoTest.loc[(hateData1AnnoTest['label'] == 1) & (hateData1AnnoTest['label_2'] == 0), 'label'] = 0\n",
    "# hateData1AnnoTrain.loc[(hateData1AnnoTrain['label'] == 0) & (hateData1AnnoTrain['label_2'] == 1), 'label'] = 1\n",
    "# hateData1AnnoTrain.loc[(hateData1AnnoTrain['label'] == 1) & (hateData1AnnoTrain['label_2'] == 0), 'label'] = 0\n",
    "# hateData1AnnoVal.loc[(hateData1AnnoVal['label'] == 0) & (hateData1AnnoVal['label_2'] == 1), 'label'] = 1\n",
    "# hateData1AnnoVal.loc[(hateData1AnnoVal['label'] == 1) & (hateData1AnnoVal['label_2'] == 0), 'label'] = 0\n",
    "\n",
    "print(hateData3AnnoTest.head(5))\n",
    "print(hateData2AnnoTest.head(5))\n",
    "print(hateData1AnnoTest.head(5))\n"
   ],
   "metadata": {
    "collapsed": false
   }
  },
  {
   "cell_type": "code",
   "execution_count": null,
   "outputs": [],
   "source": [],
   "metadata": {
    "collapsed": false
   }
  }
 ],
 "metadata": {
  "kernelspec": {
   "display_name": "Python 3",
   "language": "python",
   "name": "python3"
  },
  "language_info": {
   "codemirror_mode": {
    "name": "ipython",
    "version": 2
   },
   "file_extension": ".py",
   "mimetype": "text/x-python",
   "name": "python",
   "nbconvert_exporter": "python",
   "pygments_lexer": "ipython2",
   "version": "2.7.6"
  }
 },
 "nbformat": 4,
 "nbformat_minor": 0
}
