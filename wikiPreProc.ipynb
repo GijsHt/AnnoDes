{
 "cells": [
  {
   "cell_type": "code",
   "execution_count": 1,
   "outputs": [],
   "source": [
    "import numpy as np\n",
    "import pandas as pd\n",
    "import matplotlib.pyplot as plt\n",
    "import matplotlib.animation as animation\n",
    "from sklearn.model_selection import train_test_split\n",
    "import zipfile\n",
    "import os"
   ],
   "metadata": {
    "collapsed": false
   }
  },
  {
   "cell_type": "code",
   "execution_count": null,
   "outputs": [],
   "source": [
    "# In the first rotation, only -2 is considered offensive, so everything above that is made 0 and -2 is made 1 (0 is not offensive, 1 is offensive)\n",
    "# thereafter, -2, -1 are considered offensive, so everything above that is made 0 and -2, -1 are made 1\n",
    "# then -2, -1, 0 are considered offensive, so everything above that is made 0 and -2, -1, 0 are made 1\n",
    "\n",
    "def stimulate_disagreement(data, num_rotations):\n",
    "    dataCpy = data.copy()\n",
    "\n",
    "\n",
    "test = pd.read_csv('data/wiki/test.csv', sep='\\t')\n",
    "train = pd.read_csv('data/wiki/train.csv', sep='\\t')\n",
    "val = pd.read_csv('data/wiki/val.csv', sep='\\t')\n",
    "\n",
    "testCpyMin2 = test.copy(deep=True)\n",
    "trainCpyMin2 = train.copy(deep=True)\n",
    "valCpyMin2 = val.copy(deep=True)\n",
    "\n",
    "testCpyMin2Data = [testCpyMin2, testCpyMin2, testCpyMin2]\n",
    "\n",
    "for i in range(3):\n",
    "    for j in range(len(testCpyMin2Data[i])):\n",
    "        # a column called  toxicity_score is in the dataset, change every value that is greater than -2 to 0 and -2 to 1\n",
    "        if testCpyMin2Data[i].iloc[\"toxicity_score\", 1] > -2:\n",
    "            testCpyMin2Data[i].iloc[j, 1] = 0\n",
    "        else:\n",
    "            testCpyMin2Data[i].iloc[j, 1] = 1\n"
   ],
   "metadata": {
    "collapsed": false
   }
  },
  {
   "cell_type": "code",
   "execution_count": null,
   "outputs": [],
   "source": [],
   "metadata": {
    "collapsed": false
   }
  }
 ],
 "metadata": {
  "kernelspec": {
   "display_name": "Python 3",
   "language": "python",
   "name": "python3"
  },
  "language_info": {
   "codemirror_mode": {
    "name": "ipython",
    "version": 2
   },
   "file_extension": ".py",
   "mimetype": "text/x-python",
   "name": "python",
   "nbconvert_exporter": "python",
   "pygments_lexer": "ipython2",
   "version": "2.7.6"
  }
 },
 "nbformat": 4,
 "nbformat_minor": 0
}
